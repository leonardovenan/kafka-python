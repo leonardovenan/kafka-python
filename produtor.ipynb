{
 "cells": [
  {
   "cell_type": "code",
   "execution_count": 19,
   "id": "76339bcd",
   "metadata": {},
   "outputs": [],
   "source": [
    "from kafka import KafkaProducer as kp\n",
    "import random\n",
    "produtor = kp(bootstrap_servers=\"127.0.0.1:9092\")"
   ]
  },
  {
   "cell_type": "code",
   "execution_count": 20,
   "id": "678dce57",
   "metadata": {},
   "outputs": [],
   "source": [
    "for i in range(10):\n",
    "    n = random.random()\n",
    "    produtor.send(\"mensagens\", key=b\"Chave %d\" % i, value=b\"Mensagem %f \" % n)"
   ]
  },
  {
   "cell_type": "code",
   "execution_count": null,
   "id": "a1377466",
   "metadata": {},
   "outputs": [],
   "source": []
  },
  {
   "cell_type": "code",
   "execution_count": null,
   "id": "377964fc",
   "metadata": {},
   "outputs": [],
   "source": []
  }
 ],
 "metadata": {
  "kernelspec": {
   "display_name": "Python 3 (ipykernel)",
   "language": "python",
   "name": "python3"
  },
  "language_info": {
   "codemirror_mode": {
    "name": "ipython",
    "version": 3
   },
   "file_extension": ".py",
   "mimetype": "text/x-python",
   "name": "python",
   "nbconvert_exporter": "python",
   "pygments_lexer": "ipython3",
   "version": "3.8.10"
  }
 },
 "nbformat": 4,
 "nbformat_minor": 5
}
