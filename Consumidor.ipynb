{
 "cells": [
  {
   "cell_type": "code",
   "execution_count": 17,
   "id": "fe66c8c0",
   "metadata": {},
   "outputs": [],
   "source": [
    "from kafka import KafkaConsumer as kc\n",
    "consumidor = kc(\"mensagens\", bootstrap_servers=\"127.0.0.1:9092\", consumer_timeout_ms=1000, \n",
    "               group_id=\"consumidores\")"
   ]
  },
  {
   "cell_type": "code",
   "execution_count": 18,
   "id": "3da26b2b",
   "metadata": {},
   "outputs": [],
   "source": [
    "for mensagem in consumidor:\n",
    "    print(\"Topic: \", mensagem.topic)\n",
    "    print(\"Partition: \", mensagem.partition)\n",
    "    print(\"Chave: \", mensagem.key)\n",
    "    print(\"Offset: \", mensagem.offset)\n",
    "    print(\" Mensage: \", mensagem.value)\n",
    "    print(\"-------------------\")"
   ]
  },
  {
   "cell_type": "code",
   "execution_count": null,
   "id": "6d5fa236",
   "metadata": {},
   "outputs": [],
   "source": []
  }
 ],
 "metadata": {
  "kernelspec": {
   "display_name": "Python 3 (ipykernel)",
   "language": "python",
   "name": "python3"
  },
  "language_info": {
   "codemirror_mode": {
    "name": "ipython",
    "version": 3
   },
   "file_extension": ".py",
   "mimetype": "text/x-python",
   "name": "python",
   "nbconvert_exporter": "python",
   "pygments_lexer": "ipython3",
   "version": "3.8.10"
  }
 },
 "nbformat": 4,
 "nbformat_minor": 5
}
